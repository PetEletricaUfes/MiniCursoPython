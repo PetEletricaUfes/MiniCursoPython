{
  "nbformat": 4,
  "nbformat_minor": 0,
  "metadata": {
    "colab": {
      "name": "1 - Introdução.ipynb",
      "provenance": [],
      "collapsed_sections": [
        "-dG2eZWJKRd5",
        "1vwEQ6YMMeTi",
        "VVFpkpR8SsRA",
        "GWLnqZwaXtcQ",
        "BJdvmPsuZ4aG",
        "AvgYbYPv_PVo",
        "XHI_g6HiBLy2",
        "kjJlQ48USSNA"
      ],
      "include_colab_link": true
    },
    "kernelspec": {
      "name": "python3",
      "display_name": "Python 3"
    },
    "language_info": {
      "name": "python"
    }
  },
  "cells": [
    {
      "cell_type": "markdown",
      "metadata": {
        "id": "view-in-github",
        "colab_type": "text"
      },
      "source": [
        "<a href=\"https://colab.research.google.com/github/PetEletricaUfes/MiniCursoPython/blob/main/1_Introdu%C3%A7%C3%A3o.ipynb\" target=\"_parent\"><img src=\"https://colab.research.google.com/assets/colab-badge.svg\" alt=\"Open In Colab\"/></a>"
      ]
    },
    {
      "cell_type": "markdown",
      "metadata": {
        "id": "FXy3EF9NJduV"
      },
      "source": [
        "><a href=\"https://www.ufes.br/\">\n",
        "<img src=\"https://upload.wikimedia.org/wikipedia/commons/thumb/1/1a/Bras%C3%A3o_Ufes.svg/1200px-Bras%C3%A3o_Ufes.svg.png\" alt=\"Drawing\" width=\"85\"></a>\n",
        "<img width=\"80\"> \n",
        "<a href=\"https://www.peteletrica.ufes.br/\">\n",
        "<img src=\"https://engenhariaeletrica.ufes.br/sites/engenhariaeletrica.ufes.br/files/imagem/logo_pet_preta.png\" alt=\"Drawing\" width=\"280\"></a>  <center> \n"
      ]
    },
    {
      "cell_type": "markdown",
      "metadata": {
        "id": "KbnFfTTmJfIE"
      },
      "source": [
        "## Lesson 01: Introdução ao Python"
      ]
    },
    {
      "cell_type": "markdown",
      "metadata": {
        "id": "-dG2eZWJKRd5"
      },
      "source": [
        "# História"
      ]
    },
    {
      "cell_type": "markdown",
      "metadata": {
        "id": "KnRXQb12KX_1"
      },
      "source": [
        ">A Linguagem Python foi desenvolvida no fim dos anos 80 enquanto Guido Van Rossum trabalhava no CWI (Centro de Matemática e Ciência da Computação) na Holanda.\n",
        "\n",
        ">Python é derivado de linguagens como C, C++, shell Unix e outras linguagens de script."
      ]
    },
    {
      "cell_type": "markdown",
      "metadata": {
        "id": "1vwEQ6YMMeTi"
      },
      "source": [
        "# Linguagem compilada x Linguagem interpretada\n"
      ]
    },
    {
      "cell_type": "markdown",
      "metadata": {
        "id": "-QML320hNIEX"
      },
      "source": [
        "  **Linguagem compilada:**\n",
        ">Na linguagem comiplada o compilador traduz o programa inteiro em código de máquina de uma vez e o executa criando um arquivo que pode ser rodado (no Windows é chamado de executável).\n",
        "\n",
        ">Exemplos: C, C++, Fortran, Visual Basic, ..."
      ]
    },
    {
      "cell_type": "markdown",
      "metadata": {
        "id": "O92co4YuPGjd"
      },
      "source": [
        "  **Linguagem interpretada:**\n",
        ">Na linhuagem interpretada o interpretador pega uma instrução em linguagem de alto nível, a transforma em um tipo de código intermediário. Só quando o programa é chamado, o interpretador da sua linguagem traduz a instrução do código intermediário em código de máquina. Dessa forma, o computador precisa traduzir em tempo real para o código de máquina.\n",
        "\n",
        ">Exemplos: Python, Perl, Shell, Script, ...\n",
        "\n",
        "> Há duas formas para se executar um programa em Python: modo script, descrito acima, ou em tempo de execução.\n",
        "\n",
        "> Em tempo de execução, o interpretador executa linha a linha à medida em que é escrita."
      ]
    },
    {
      "cell_type": "markdown",
      "metadata": {
        "id": "VVFpkpR8SsRA"
      },
      "source": [
        "# Tipos de dados"
      ]
    },
    {
      "cell_type": "markdown",
      "metadata": {
        "id": "B6MCoxwkTCH5"
      },
      "source": [
        ">Tipar um dado é informar de que grupe ele é.\n",
        "\n",
        ">**Tipagem Forte**: Em uma linguagem de programação fortemente tipada é necessário declarar explicitamente o tipo da variável que está sendo alocada.\n",
        "\n",
        ">**Tipagem Fraca**: Em uma linguagem de programação fracamente tipada não é necessário declarar explicitamente o tipo da variável que está sendo alocada. Assim, a variável irá se auto-tipar dependendo do valor atribuído a ela.\n"
      ]
    },
    {
      "cell_type": "markdown",
      "metadata": {
        "id": "gZUJ9NstU3ej"
      },
      "source": [
        ">Python apresenta tipagem dinâmica, isto é, a tipagem pode mudar dependendo de cada nova entrada de dados em uma variável.\n",
        "\n",
        ">O comando type(variável) informa qual o tipo de dado certa variável."
      ]
    },
    {
      "cell_type": "code",
      "metadata": {
        "id": "mNJRYR32WZgc"
      },
      "source": [
        "c = '123'\n",
        "type(c)"
      ],
      "execution_count": null,
      "outputs": []
    },
    {
      "cell_type": "code",
      "metadata": {
        "id": "x_PgbchjWbSI"
      },
      "source": [
        "type(3.14159265359)"
      ],
      "execution_count": null,
      "outputs": []
    },
    {
      "cell_type": "code",
      "metadata": {
        "id": "sni3MYyiWepB"
      },
      "source": [
        "type(True)"
      ],
      "execution_count": null,
      "outputs": []
    },
    {
      "cell_type": "code",
      "metadata": {
        "id": "7TrzI115Wfo1"
      },
      "source": [
        "type(\"Uma string pode ser escrita com aspas duplas ou aspas simples\")"
      ],
      "execution_count": null,
      "outputs": []
    },
    {
      "cell_type": "code",
      "metadata": {
        "id": "Ww7OhcuyWj16"
      },
      "source": [
        "numeros = [1,2,3]\n",
        "type(numeros)"
      ],
      "execution_count": null,
      "outputs": []
    },
    {
      "cell_type": "markdown",
      "metadata": {
        "id": "GWLnqZwaXtcQ"
      },
      "source": [
        "# Delimitação por indentação"
      ]
    },
    {
      "cell_type": "markdown",
      "metadata": {
        "id": "3r_P8E8HX1mn"
      },
      "source": [
        ">A indentação é o afastamento de um texto em relação à margem.\n",
        "\n",
        ">Em Python a delimitação para blocos de código é feita apenas pela indentação do código."
      ]
    },
    {
      "cell_type": "code",
      "metadata": {
        "id": "A3O6dfG4Ywu3"
      },
      "source": [
        "saldo = 10\n",
        "print (\"Tenho um saldo de: \")\n",
        "if saldo == 0:\n",
        "  saldo = \"zero\"\n",
        "  print (saldo)\n",
        "else:\n",
        "  print (saldo)\n",
        "exit()"
      ],
      "execution_count": null,
      "outputs": []
    },
    {
      "cell_type": "markdown",
      "metadata": {
        "id": "BJdvmPsuZ4aG"
      },
      "source": [
        "# Tipos de alto nível"
      ]
    },
    {
      "cell_type": "markdown",
      "metadata": {
        "id": "3G9z8NSzZ-xJ"
      },
      "source": [
        ">Além dos tipos básicos (números inteiros, números ponto flutuante, ou \"float\", Strings, Booleanos (True ou False)), Python possui outros tipos de mais alto nível:"
      ]
    },
    {
      "cell_type": "markdown",
      "metadata": {
        "id": "CcnZ5O-iefXw"
      },
      "source": [
        ">**Listas**\n",
        "\n",
        ">**Tuplas**\n",
        "\n",
        ">**Strings**\n",
        "\n",
        ">**Dicionários**\n",
        "\n",
        ">**Arquivo**: Python possui um tipo pré-definido para manipular arquivos. Isso faz com que o arquivo seja lido, alterado e escrito facilmente.\n",
        "\n",
        ">**Classes e Instâncias**: são estruturas que servem para apoiar programação orientada a objetos."
      ]
    },
    {
      "cell_type": "markdown",
      "metadata": {
        "id": "AvgYbYPv_PVo"
      },
      "source": [
        "# Orientação a Objetos"
      ]
    },
    {
      "cell_type": "markdown",
      "metadata": {
        "id": "nksYGEjj_UOQ"
      },
      "source": [
        ">Em Python, todos os dados podem ser considerados objetos. Por exemplo, toda string tem o método upper (cria um novo string no qual todos os caracteres estão em maiúsculas):"
      ]
    },
    {
      "cell_type": "code",
      "metadata": {
        "id": "pG67lxxh_hMJ"
      },
      "source": [
        "p = \"pet\"\n",
        "p.upper()"
      ],
      "execution_count": null,
      "outputs": []
    },
    {
      "cell_type": "markdown",
      "metadata": {
        "id": "1A0SFxlfAQrz"
      },
      "source": [
        ">De modo igual, dicionários, tuplas, listas, ... são objetos. O comando dir(variável) mostra os métodos disponíveis."
      ]
    },
    {
      "cell_type": "code",
      "metadata": {
        "id": "nu5shWC3A81k"
      },
      "source": [
        "variavel = 123\n",
        "dir(variavel)"
      ],
      "execution_count": null,
      "outputs": []
    },
    {
      "cell_type": "markdown",
      "metadata": {
        "id": "XHI_g6HiBLy2"
      },
      "source": [
        "# Por que aprender Python?"
      ]
    },
    {
      "cell_type": "markdown",
      "metadata": {
        "id": "noMWSQX9BWTr"
      },
      "source": [
        ">Python é uma linguagem de alto nível e torna as coisas mais simples e mais fáceis para o programador que tem o menor trabalho possível ao escrever um programa, se preocupando com o problema que está tentando solucionar, ao invés de memorizar comandos de uma linguagem de máquina extensa e repleta de detalhes;\n",
        "\n",
        ">Os conceitos fundamentais são simples de entender;\n",
        "\n",
        ">O interpretador Python permite testar rapidamente trechos de código;\n",
        "\n",
        ">A sintaxe é fácil de aprender;\n",
        "\n",
        ">Possui tratamento de exceções (mecanismo moderno de tratamento de erros);\n",
        "\n",
        ">Os tipos pré-definidos são simples de usar e poderosos;\n",
        "\n",
        ">Python é orientado a objetos."
      ]
    },
    {
      "cell_type": "markdown",
      "metadata": {
        "id": "kjJlQ48USSNA"
      },
      "source": [
        "# Documentação e local para dúvidas"
      ]
    },
    {
      "cell_type": "markdown",
      "metadata": {
        "id": "A1aaEhS-So2N"
      },
      "source": [
        ">Toda a documentação de Python pode ser encontrada <a href = \"https://docs.python.org/3/\">aqui</a>.\n",
        "\n",
        ">Bom lugar para retirar dúvidas: <a href = \"https://pt.stackoverflow.com/\n",
        "\">Stackoverflow</a>."
      ]
    }
  ]
}