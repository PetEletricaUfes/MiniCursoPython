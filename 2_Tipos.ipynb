{
  "nbformat": 4,
  "nbformat_minor": 0,
  "metadata": {
    "colab": {
      "name": "2 - Tipos.ipynb",
      "provenance": [],
      "collapsed_sections": [],
      "include_colab_link": true
    },
    "kernelspec": {
      "name": "python3",
      "display_name": "Python 3"
    },
    "language_info": {
      "name": "python"
    }
  },
  "cells": [
    {
      "cell_type": "markdown",
      "metadata": {
        "id": "view-in-github",
        "colab_type": "text"
      },
      "source": [
        "<a href=\"https://colab.research.google.com/github/PetEletricaUfes/MiniCursoPython/blob/main/2_Tipos.ipynb\" target=\"_parent\"><img src=\"https://colab.research.google.com/assets/colab-badge.svg\" alt=\"Open In Colab\"/></a>"
      ]
    },
    {
      "cell_type": "markdown",
      "metadata": {
        "id": "cpfUiEiCR2Ks"
      },
      "source": [
        "><a href=\"https://www.ufes.br/\">\n",
        "<img src=\"https://upload.wikimedia.org/wikipedia/commons/thumb/1/1a/Bras%C3%A3o_Ufes.svg/1200px-Bras%C3%A3o_Ufes.svg.png\" alt=\"Drawing\" width=\"85\"></a>\n",
        "<img width=\"80\"> \n",
        "<a href=\"https://www.peteletrica.ufes.br/\">\n",
        "<img src=\"https://www.peteletrica.ufes.br/wp-content/uploads/2020/07/cropped-cropped-cropped-logo-pet-branca.png\" alt=\"Drawing\" width=\"280\"></a>  <center> "
      ]
    },
    {
      "cell_type": "markdown",
      "metadata": {
        "id": "TvqGT3upET5K"
      },
      "source": [
        "# Lesson 02: Tipos e variáveis\n",
        "\n"
      ]
    },
    {
      "cell_type": "markdown",
      "metadata": {
        "id": "RiPXmQwCD2kR"
      },
      "source": [
        "# Introdução\n"
      ]
    },
    {
      "cell_type": "markdown",
      "metadata": {
        "id": "tyLAb6cZWQqO"
      },
      "source": [
        ">Pequenos espaços de memória, utilizados para armazenar e manipular dados..\n",
        "\n",
        ">Os nomes das variáveis devem ser iniciados com uma letra, mas podem possuir outros\n",
        "tipos de caracteres, como números e símbolos. O símbolo sublinha ( _ ) também é aceito no início\n",
        "de nomes de variáveis.\n",
        "\n",
        ">Tipagem dinâmica\n",
        "\n",
        ">Principais tipos:\n",
        "*   String\n",
        "*   Inteiro\n",
        "* Float\n",
        "* Complexo\n",
        "* Booleano"
      ]
    },
    {
      "cell_type": "code",
      "metadata": {
        "colab": {
          "base_uri": "https://localhost:8080/"
        },
        "id": "YU7N0-FYXLTR",
        "outputId": "b1b8dc0e-85b1-4250-fbd5-72bf3f28d507"
      },
      "source": [
        "\n",
        "x = 1\n",
        "print(f'o valor de x é {x}')\n",
        "print(f'o tipo de dado de x é: {type(x)}\\n') #função print\n",
        "x = 'Brasil' #tipagem dinamica\n",
        "print(f'o valor de x é {x}')\n",
        "print(f'o tipo de dado de x é: {type(x)}\\n') #função print\n",
        "x = input() #solicita entrada do usuário\n",
        "print(type(x)) #tipo padrão input\n",
        "x = float(input()) #conversão de tipo\n",
        "print(type(x))\n"
      ],
      "execution_count": null,
      "outputs": [
        {
          "output_type": "stream",
          "text": [
            "o valor de x é 1\n",
            "o tipo de dado de x é: <class 'int'>\n",
            "\n",
            "o valor de x é Brasil\n",
            "o tipo de dado de x é: <class 'str'>\n",
            "\n",
            "5\n",
            "<class 'str'>\n",
            "5\n",
            "<class 'float'>\n"
          ],
          "name": "stdout"
        }
      ]
    },
    {
      "cell_type": "code",
      "metadata": {
        "id": "Id0XW7v8XUs0"
      },
      "source": [
        ""
      ],
      "execution_count": null,
      "outputs": []
    },
    {
      "cell_type": "markdown",
      "metadata": {
        "id": "C1UeTT6h1IP0"
      },
      "source": [
        "# Tipos de variáveis\n"
      ]
    },
    {
      "cell_type": "markdown",
      "metadata": {
        "id": "MSW6MVqZ1IQM"
      },
      "source": [
        ">Tipos numéricos\n",
        "\n",
        ">* int\n",
        ">* float\n",
        "\n",
        "Operadores arítiméticos: \n",
        "+\n",
        "-\n",
        "*\n",
        "/\n",
        "//\n",
        "%\n",
        "**\n",
        "\n",
        "Operadores de Comparação:\n",
        "\n",
        "'<'\n",
        "'<='\n",
        "'>'\n",
        "'>='\n",
        "'=='\n",
        "'!='\n",
        "\n"
      ]
    },
    {
      "cell_type": "code",
      "metadata": {
        "id": "xnWtosck1IQO",
        "colab": {
          "base_uri": "https://localhost:8080/"
        },
        "outputId": "7139f4e4-bc3b-4078-d63f-220cd41c7e2b"
      },
      "source": [
        "\n",
        "x = 1\n",
        "y = 2\n",
        "print(f'o valor de x é {x}')\n",
        "print(f'o valor de x é {y}')\n",
        "print(f'operação = {x/y}')\n"
      ],
      "execution_count": null,
      "outputs": [
        {
          "output_type": "stream",
          "text": [
            "o valor de x é 1\n",
            "o valor de x é 2\n",
            "operação = 0.5\n"
          ],
          "name": "stdout"
        }
      ]
    },
    {
      "cell_type": "markdown",
      "metadata": {
        "id": "7XX6GqZU3Ga_"
      },
      "source": [
        ">Tipo booleano\n",
        "\n",
        ">* True\n",
        ">* False\n",
        "\n",
        "Operadores lógicos\n",
        "\n",
        ">>{not - or - and}\n",
        "\n"
      ]
    },
    {
      "cell_type": "code",
      "metadata": {
        "id": "yVpz8DRy1IQS",
        "colab": {
          "base_uri": "https://localhost:8080/"
        },
        "outputId": "80684a35-651c-41db-9332-52a1218ea432"
      },
      "source": [
        "print(True and False)"
      ],
      "execution_count": null,
      "outputs": [
        {
          "output_type": "stream",
          "text": [
            "False\n"
          ],
          "name": "stdout"
        }
      ]
    },
    {
      "cell_type": "markdown",
      "metadata": {
        "id": "-CtM4N8W3wbq"
      },
      "source": [
        ">Tipo string\n",
        "\n",
        "len() #Retorna o tamanho da string.\n",
        "\n",
        "capitalize() Retorna a string com a primeira letra maiúscula\n",
        "\n",
        "count()\n",
        "Informa quantas vezes um caractere (ou uma sequência de caracteres) aparece na string.\n",
        "\n",
        "startswith() Verifica se uma string inicia com uma determinada\n",
        "sequência.\n",
        "\n",
        "endswith()\n",
        "Verifica se uma string termina com uma determinada\n",
        "sequência.\n",
        "\n",
        "isalnum()\n",
        "Verifica se a string possui algum conteúdo alfanumérico (letra ou número).\n",
        "\n",
        "isalpha()\n",
        "Verifica se a string possui apenas conteúdo alfabético.\n",
        "\n",
        "islower()\n",
        "Verifica se todas as letras de uma string são minúsculas.\n",
        "\n",
        "isupper()\n",
        "Verifica se todas as letras de uma string são maiúsculas.\n",
        "\n",
        "lower()\n",
        "Retorna uma cópia da string trocando todas as letras\n",
        "para minúsculo.\n",
        "\n",
        "upper()\n",
        "Retorna uma cópia da string trocando todas as letras\n",
        "para maiúsculo.\n",
        "\n",
        "swapcase()\n",
        "Inverte o conteúdo da string (Minúsculo / Maiúsculo).\n",
        "\n",
        "title()\n",
        "\n",
        "split()\n",
        "Transforma a string em uma lista, utilizando os espaços como referência.\n",
        "\n",
        "replace(S1, S2) Substitui na string o trecho S1 pelo trecho S2.\n",
        "\n",
        "find()\n",
        "Retorna o índice da primeira ocorrência de um determinado caractere na string. Se o caractere não\n",
        "estiver na string retorna -1.\n",
        "\n",
        "ljust()\n",
        "Ajusta a string para um tamanho mínimo, acrescentando espaços à direita se necessário.\n",
        "\n",
        "rjust()\n",
        "Ajusta a string para um tamanho mínimo, acrescentando espaços à esquerda se necessário.\n",
        "\n",
        "center()\n",
        "Ajusta a string para um tamanho mínimo, acrescentando espaços à esquerda e à direita, se necessário.\n",
        "\n",
        "lstrip()\n",
        "Remove todos os espaços em branco do lado esquerdo da string.\n",
        "\n",
        "rstrip() Remove todos os espaços em branco do lado direito da string.\n",
        "\n",
        "strip() Remove todos os espaços em branco da string."
      ]
    },
    {
      "cell_type": "code",
      "metadata": {
        "colab": {
          "base_uri": "https://localhost:8080/"
        },
        "id": "fHfLQ14g61Yx",
        "outputId": "7f272157-ba9b-422d-f07c-cc1e6590f3dc"
      },
      "source": [
        "string = 'Neymar Jr'\n",
        "print(f'string = {string}')\n",
        "print(f'string = {string[0:6]}') #string<=0 e <6\n",
        "print(f'string = {string.split()}')\n",
        "print(f'string = {string[::-1]}')\n",
        "print(f'string = {string.replace(\"r\",\"s\")}')\n",
        "\n"
      ],
      "execution_count": null,
      "outputs": [
        {
          "output_type": "stream",
          "text": [
            "string = Neymar Jr\n",
            "string = Neymar\n",
            "string = ['Neymar', 'Jr']\n",
            "string = rJ ramyeN\n",
            "string = Neymas Js\n"
          ],
          "name": "stdout"
        }
      ]
    },
    {
      "cell_type": "markdown",
      "metadata": {
        "id": "LockdVQHdvLd"
      },
      "source": [
        "# Exercício de fixação"
      ]
    },
    {
      "cell_type": "markdown",
      "metadata": {
        "id": "bgObklgrd20F"
      },
      "source": [
        "Escreva um programa que pergunte o nome de um funcionário, e seu salário desejado.\n",
        "\n",
        "Retorne para ele seu nome com todas as letras maísculas, e um salário 5% abaixo do inserido, e somado a R$53,20.\n",
        "\n",
        "Dica: o salário deve ser trabalhado em float\n",
        "\n",
        "\n",
        "\n",
        "\n",
        "\n"
      ]
    },
    {
      "cell_type": "code",
      "metadata": {
        "id": "Y7i2FIUBd0n5"
      },
      "source": [
        ""
      ],
      "execution_count": null,
      "outputs": []
    }
  ]
}