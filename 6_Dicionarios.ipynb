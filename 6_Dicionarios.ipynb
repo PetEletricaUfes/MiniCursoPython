{
  "nbformat": 4,
  "nbformat_minor": 0,
  "metadata": {
    "colab": {
      "name": "6 - Dicionários.ipynb",
      "provenance": [],
      "collapsed_sections": [
        "LockdVQHdvLd"
      ],
      "include_colab_link": true
    },
    "kernelspec": {
      "name": "python3",
      "display_name": "Python 3"
    },
    "language_info": {
      "name": "python"
    }
  },
  "cells": [
    {
      "cell_type": "markdown",
      "metadata": {
        "id": "view-in-github",
        "colab_type": "text"
      },
      "source": [
        "<a href=\"https://colab.research.google.com/github/PetEletricaUfes/MiniCursoPython/blob/main/6_Dicionarios.ipynb\" target=\"_parent\"><img src=\"https://colab.research.google.com/assets/colab-badge.svg\" alt=\"Open In Colab\"/></a>"
      ]
    },
    {
      "cell_type": "markdown",
      "metadata": {
        "id": "2a3UOljMACM5"
      },
      "source": [
        "><a href=\"https://www.ufes.br/\">\n",
        "<img src=\"https://upload.wikimedia.org/wikipedia/commons/thumb/1/1a/Bras%C3%A3o_Ufes.svg/1200px-Bras%C3%A3o_Ufes.svg.png\" alt=\"Drawing\" width=\"85\"></a>\n",
        "<img width=\"80\"> \n",
        "<a href=\"https://www.peteletrica.ufes.br/\">\n",
        "<img src=\"https://www.peteletrica.ufes.br/wp-content/uploads/2020/07/cropped-cropped-cropped-logo-pet-branca.png\" alt=\"Drawing\" width=\"280\"></a>  <center> "
      ]
    },
    {
      "cell_type": "markdown",
      "metadata": {
        "id": "TvqGT3upET5K"
      },
      "source": [
        "# Lesson 06: Dicionários\n",
        "\n",
        "\n",
        "\n"
      ]
    },
    {
      "cell_type": "markdown",
      "metadata": {
        "id": "RiPXmQwCD2kR"
      },
      "source": [
        "# Introdução\n"
      ]
    },
    {
      "cell_type": "markdown",
      "metadata": {
        "id": "tyLAb6cZWQqO"
      },
      "source": [
        ">Forma de mapear dados com chaves\n",
        "\n",
        ">novo-dicionario = {chave1 : valor1, chave2 : valor2,...,chave_n : valor_n}\n"
      ]
    },
    {
      "cell_type": "markdown",
      "metadata": {
        "id": "gif3FLc09FYp"
      },
      "source": [
        "# Lista de tuplas x Dicionários\n"
      ]
    },
    {
      "cell_type": "markdown",
      "metadata": {
        "id": "M2YgeS0v9FYs"
      },
      "source": [
        ">Super listas de tuplas\n",
        "\n",
        ">Busca de valores por chaves\n"
      ]
    },
    {
      "cell_type": "code",
      "metadata": {
        "id": "Q9AxLaMe9FYv"
      },
      "source": [
        "#usando lista de tuplas\n",
        "new_D = [('fulano', '7.4'), ('ciclano', '5.1'),('beltrano', '2')]\n",
        "print(f'ciclano = {new_D[1][1]}')\n",
        "\n",
        "#usando dicionários\n",
        "new_D = {'fulano': 7.4, 'ciclano': 5.1, 'beltrano':2}\n",
        "print(f'ciclano = {new_D[\"ciclano\"]}')"
      ],
      "execution_count": null,
      "outputs": []
    },
    {
      "cell_type": "markdown",
      "metadata": {
        "id": "eSWXTkBo9GAU"
      },
      "source": [
        "# Manipulando valores"
      ]
    },
    {
      "cell_type": "markdown",
      "metadata": {
        "id": "uuIHgaLj9GAV"
      },
      "source": [
        ">Usa-se a chave como \"índice\" para acesso"
      ]
    },
    {
      "cell_type": "code",
      "metadata": {
        "id": "vXzH6FIa9GAV"
      },
      "source": [
        "#alterando valor\n",
        "new_D['ciclano']=4.9\n",
        "print(new_D)\n",
        "\n",
        "#removendo valor\n",
        "del(new_D[\"ciclano\"])\n",
        "print(new_D)\n",
        "\n",
        "#adicionando valor\n",
        "new_D[\"ciclano\"] = 5.1\n",
        "print(new_D)"
      ],
      "execution_count": null,
      "outputs": []
    },
    {
      "cell_type": "markdown",
      "metadata": {
        "id": "a5L0N2uB-jeQ"
      },
      "source": [
        "# Acessando valores"
      ]
    },
    {
      "cell_type": "code",
      "metadata": {
        "id": "rNlGFx4X-jew"
      },
      "source": [
        "#retornando lista de chaves\n",
        "var = list(new_D.keys())\n",
        "print(var)\n",
        "\n",
        "#retornando lista de valores\n",
        "var = list(new_D.values())\n",
        "print(new_D)\n",
        "\n",
        "#buscando valores no dicionário\n",
        "dicionario = {'A': 1, 'B': 2} \n",
        "valor = dicionario.get('C', 'Não encontrado!')\n",
        "print(valor)"
      ],
      "execution_count": null,
      "outputs": []
    },
    {
      "cell_type": "markdown",
      "metadata": {
        "id": "LockdVQHdvLd"
      },
      "source": [
        "# Exercício de fixação"
      ]
    },
    {
      "cell_type": "markdown",
      "metadata": {
        "id": "bgObklgrd20F"
      },
      "source": [
        "Escreva um programa que cria uma lista telefônica com dicionários, e implemente este programa para que, o usuário consiga alterar valores, adicionar novos e fazer busca por valores existentes.\n",
        "\n",
        "\n",
        "\n",
        "\n"
      ]
    },
    {
      "cell_type": "code",
      "metadata": {
        "id": "Y7i2FIUBd0n5"
      },
      "source": [
        ""
      ],
      "execution_count": null,
      "outputs": []
    }
  ]
}