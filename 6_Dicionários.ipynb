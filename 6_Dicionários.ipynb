{
  "nbformat": 4,
  "nbformat_minor": 0,
  "metadata": {
    "colab": {
      "name": "6 - Dicionários.ipynb",
      "provenance": [],
      "collapsed_sections": [
        "LockdVQHdvLd"
      ],
      "include_colab_link": true
    },
    "kernelspec": {
      "name": "python3",
      "display_name": "Python 3"
    },
    "language_info": {
      "name": "python"
    }
  },
  "cells": [
    {
      "cell_type": "markdown",
      "metadata": {
        "id": "view-in-github",
        "colab_type": "text"
      },
      "source": [
        "<a href=\"https://colab.research.google.com/github/PetEletricaUfes/MiniCursoPython/blob/main/6_Dicion%C3%A1rios.ipynb\" target=\"_parent\"><img src=\"https://colab.research.google.com/assets/colab-badge.svg\" alt=\"Open In Colab\"/></a>"
      ]
    },
    {
      "cell_type": "markdown",
      "metadata": {
        "id": "cpfUiEiCR2Ks"
      },
      "source": [
        "><a href=\"https://www.ufes.br/\">\n",
        "<img src=\"https://upload.wikimedia.org/wikipedia/commons/thumb/1/1a/Bras%C3%A3o_Ufes.svg/1200px-Bras%C3%A3o_Ufes.svg.png\" alt=\"Drawing\" width=\"85\"></a>\n",
        "<img width=\"80\"> \n",
        "<a href=\"https://www.peteletrica.ufes.br/\">\n",
        "<img src=\"https://www.peteletrica.ufes.br/wp-content/uploads/2020/07/cropped-cropped-cropped-logo-pet-branca.png\" alt=\"Drawing\" width=\"280\"></a>  <center> "
      ]
    },
    {
      "cell_type": "markdown",
      "metadata": {
        "id": "TvqGT3upET5K"
      },
      "source": [
        "# Lesson 06: Dicionários\n",
        "\n",
        "\n"
      ]
    },
    {
      "cell_type": "markdown",
      "metadata": {
        "id": "RiPXmQwCD2kR"
      },
      "source": [
        "# Introdução\n"
      ]
    },
    {
      "cell_type": "markdown",
      "metadata": {
        "id": "tyLAb6cZWQqO"
      },
      "source": [
        ">Super listas de tuplas\n",
        "\n",
        ">Forma de mapear dados com chaves\n",
        "\n",
        ">novo-dicionario = {chave1 : valor1, chave2 : valor2,...,chave_n : valor_n}\n"
      ]
    },
    {
      "cell_type": "code",
      "metadata": {
        "colab": {
          "base_uri": "https://localhost:8080/"
        },
        "id": "YU7N0-FYXLTR",
        "outputId": "e0224ed8-043e-40bb-b342-4b7377ee086b"
      },
      "source": [
        "#usando lista de tuplas\n",
        "new_D = [('fulano', '7.4'), ('ciclano', '5.1'),('beltrano', '2')]\n",
        "print(f'ciclano = {new_D[1][1]}')\n",
        "\n",
        "#usando dicionários\n",
        "new_D = {'fulano': 7.4, 'ciclano': 5.1, 'beltrano':2}\n",
        "print(f'ciclano = {new_D[\"ciclano\"]}')\n",
        "\n",
        "#alterando valor\n",
        "new_D['ciclano']=4.9\n",
        "print(new_D)\n",
        "\n",
        "#removendo valor\n",
        "del(new_D[\"ciclano\"])\n",
        "print(new_D)\n",
        "\n",
        "#adicionando valor\n",
        "new_D[\"ciclano\"] = 5.1\n",
        "print(new_D)\n",
        "\n",
        "#retornando lista de chaves\n",
        "var = list(new_D.keys())\n",
        "print(var)\n",
        "\n",
        "#retornando lista de valores\n",
        "var = list(new_D.values())\n",
        "print(new_D)\n",
        "\n",
        "#buscando valores no dicionário\n",
        "dicionario = {'A': 1, 'B': 2} \n",
        "valor = dicionario.get('C', 'Não encontrado!')\n",
        "print(valor)\n",
        "\n",
        "\n",
        "\n",
        "\n",
        "\n",
        "\n"
      ],
      "execution_count": null,
      "outputs": [
        {
          "output_type": "stream",
          "text": [
            "ciclano = 5.1\n",
            "ciclano = 5.1\n",
            "{'fulano': 7.4, 'ciclano': 4.9, 'beltrano': 2}\n",
            "{'fulano': 7.4, 'beltrano': 2}\n",
            "{'fulano': 7.4, 'beltrano': 2, 'ciclano': 5.1}\n",
            "['fulano', 'beltrano', 'ciclano']\n",
            "{'fulano': 7.4, 'beltrano': 2, 'ciclano': 5.1}\n",
            "Não encontrado!\n"
          ],
          "name": "stdout"
        }
      ]
    },
    {
      "cell_type": "code",
      "metadata": {
        "id": "Id0XW7v8XUs0"
      },
      "source": [
        ""
      ],
      "execution_count": null,
      "outputs": []
    },
    {
      "cell_type": "markdown",
      "metadata": {
        "id": "LockdVQHdvLd"
      },
      "source": [
        "# Exercício de fixação"
      ]
    },
    {
      "cell_type": "markdown",
      "metadata": {
        "id": "bgObklgrd20F"
      },
      "source": [
        "Escreva um programa que cria uma lista telefônica com dicionários, e implemente este programa para que, o usuário consiga alterar valores, adicionar novos e fazer busca por valores existentes.\n",
        "\n",
        "\n",
        "\n",
        "\n"
      ]
    },
    {
      "cell_type": "code",
      "metadata": {
        "id": "Y7i2FIUBd0n5"
      },
      "source": [
        "\n"
      ],
      "execution_count": null,
      "outputs": []
    }
  ]
}